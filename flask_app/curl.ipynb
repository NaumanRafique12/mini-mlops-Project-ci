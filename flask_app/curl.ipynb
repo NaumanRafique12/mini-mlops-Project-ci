{
 "cells": [
  {
   "cell_type": "code",
   "execution_count": 4,
   "metadata": {},
   "outputs": [
    {
     "data": {
      "text/plain": [
       "<Response [200]>"
      ]
     },
     "execution_count": 4,
     "metadata": {},
     "output_type": "execute_result"
    }
   ],
   "source": [
    "import requests\n",
    "\n",
    "headers = {\n",
    "    'Accept': 'text/html,application/xhtml+xml,application/xml;q=0.9,image/avif,image/webp,image/apng,*/*;q=0.8,application/signed-exchange;v=b3;q=0.7',\n",
    "    'Accept-Language': 'en-US,en;q=0.9',\n",
    "    'Cache-Control': 'max-age=0',\n",
    "    'Connection': 'keep-alive',\n",
    "    'Content-Type': 'application/x-www-form-urlencoded',\n",
    "    'Origin': 'http://ec2-13-56-165-214.us-west-1.compute.amazonaws.com',\n",
    "    'Referer': 'http://ec2-13-56-165-214.us-west-1.compute.amazonaws.com/',\n",
    "    'Upgrade-Insecure-Requests': '1',\n",
    "    'User-Agent': 'Mozilla/5.0 (Windows NT 10.0; Win64; x64) AppleWebKit/537.36 (KHTML, like Gecko) Chrome/128.0.0.0 Safari/537.36',\n",
    "}\n",
    "\n",
    "data = {\n",
    "    'text': 'sdsds',\n",
    "}\n",
    "\n",
    "response = requests.post(\n",
    "    'http://ec2-13-56-165-214.us-west-1.compute.amazonaws.com/predict',\n",
    "    headers=headers,\n",
    "    data=data,\n",
    "    verify=False,\n",
    ")\n",
    "response"
   ]
  },
  {
   "cell_type": "code",
   "execution_count": 5,
   "metadata": {},
   "outputs": [
    {
     "data": {
      "text/plain": [
       "'<!DOCTYPE html>\\n\\n<html>\\n    <head>\\n        <title>Sentiment Analysis</title>\\n    </head>\\n\\n    <body style=\"background-color: greenyellow;\">\\n        <h1>Sentiment Analysis</h1>\\n        <form action=\"/predict\" method=\"POST\">\\n            <label>Write text:</label><br>\\n            <textarea name=\"text\" rows=\"10\" cols=\"40\"></textarea><br>\\n            <input type=\"submit\" value=\"Predict\">\\n        </form>\\n\\n        \\n            \\n                <h2>Sad</h2>\\n            \\n        \\n    </body>\\n</html>'"
      ]
     },
     "execution_count": 5,
     "metadata": {},
     "output_type": "execute_result"
    }
   ],
   "source": [
    "response.text"
   ]
  }
 ],
 "metadata": {
  "kernelspec": {
   "display_name": "Python 3",
   "language": "python",
   "name": "python3"
  },
  "language_info": {
   "codemirror_mode": {
    "name": "ipython",
    "version": 3
   },
   "file_extension": ".py",
   "mimetype": "text/x-python",
   "name": "python",
   "nbconvert_exporter": "python",
   "pygments_lexer": "ipython3",
   "version": "3.11.9"
  }
 },
 "nbformat": 4,
 "nbformat_minor": 2
}
